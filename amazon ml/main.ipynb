{
 "cells": [
  {
   "cell_type": "code",
   "execution_count": 25,
   "id": "4856ae8f",
   "metadata": {},
   "outputs": [],
   "source": [
    "import numpy as np\n",
    "import math\n",
    "import matplotlib.pyplot as plt\n",
    "import pandas as pd"
   ]
  },
  {
   "cell_type": "code",
   "execution_count": 26,
   "id": "26d32573",
   "metadata": {},
   "outputs": [],
   "source": [
    "import seaborn as sns\n",
    "from fitter import Fitter, get_common_distributions, get_distributions"
   ]
  },
  {
   "cell_type": "code",
   "execution_count": 27,
   "id": "ae6d0b5b",
   "metadata": {},
   "outputs": [],
   "source": [
    "data_frame = pd.read_csv(\"G:\\\\amazon ml\\\\dataset\\\\train.csv\")"
   ]
  },
  {
   "cell_type": "code",
   "execution_count": 28,
   "id": "d03c6c30",
   "metadata": {},
   "outputs": [
    {
     "data": {
      "text/html": [
       "<div>\n",
       "<style scoped>\n",
       "    .dataframe tbody tr th:only-of-type {\n",
       "        vertical-align: middle;\n",
       "    }\n",
       "\n",
       "    .dataframe tbody tr th {\n",
       "        vertical-align: top;\n",
       "    }\n",
       "\n",
       "    .dataframe thead th {\n",
       "        text-align: right;\n",
       "    }\n",
       "</style>\n",
       "<table border=\"1\" class=\"dataframe\">\n",
       "  <thead>\n",
       "    <tr style=\"text-align: right;\">\n",
       "      <th></th>\n",
       "      <th>PRODUCT_ID</th>\n",
       "      <th>TITLE</th>\n",
       "      <th>BULLET_POINTS</th>\n",
       "      <th>DESCRIPTION</th>\n",
       "      <th>PRODUCT_TYPE_ID</th>\n",
       "      <th>PRODUCT_LENGTH</th>\n",
       "    </tr>\n",
       "  </thead>\n",
       "  <tbody>\n",
       "    <tr>\n",
       "      <th>0</th>\n",
       "      <td>1925202</td>\n",
       "      <td>ArtzFolio Tulip Flowers Blackout Curtain for D...</td>\n",
       "      <td>[LUXURIOUS &amp; APPEALING: Beautiful custom-made ...</td>\n",
       "      <td>NaN</td>\n",
       "      <td>1650</td>\n",
       "      <td>2125.980000</td>\n",
       "    </tr>\n",
       "    <tr>\n",
       "      <th>1</th>\n",
       "      <td>2673191</td>\n",
       "      <td>Marks &amp; Spencer Girls' Pyjama Sets T86_2561C_N...</td>\n",
       "      <td>[Harry Potter Hedwig Pyjamas (6-16 Yrs),100% c...</td>\n",
       "      <td>NaN</td>\n",
       "      <td>2755</td>\n",
       "      <td>393.700000</td>\n",
       "    </tr>\n",
       "    <tr>\n",
       "      <th>2</th>\n",
       "      <td>2765088</td>\n",
       "      <td>PRIKNIK Horn Red Electric Air Horn Compressor ...</td>\n",
       "      <td>[Loud Dual Tone Trumpet Horn, Compatible With ...</td>\n",
       "      <td>Specifications: Color: Red, Material: Aluminiu...</td>\n",
       "      <td>7537</td>\n",
       "      <td>748.031495</td>\n",
       "    </tr>\n",
       "    <tr>\n",
       "      <th>3</th>\n",
       "      <td>1594019</td>\n",
       "      <td>ALISHAH Women's Cotton Ankle Length Leggings C...</td>\n",
       "      <td>[Made By 95%cotton and 5% Lycra which gives yo...</td>\n",
       "      <td>AISHAH Women's Lycra Cotton Ankel Leggings. Br...</td>\n",
       "      <td>2996</td>\n",
       "      <td>787.401574</td>\n",
       "    </tr>\n",
       "    <tr>\n",
       "      <th>4</th>\n",
       "      <td>283658</td>\n",
       "      <td>The United Empire Loyalists: A Chronicle of th...</td>\n",
       "      <td>NaN</td>\n",
       "      <td>NaN</td>\n",
       "      <td>6112</td>\n",
       "      <td>598.424000</td>\n",
       "    </tr>\n",
       "  </tbody>\n",
       "</table>\n",
       "</div>"
      ],
      "text/plain": [
       "   PRODUCT_ID                                              TITLE   \n",
       "0     1925202  ArtzFolio Tulip Flowers Blackout Curtain for D...  \\\n",
       "1     2673191  Marks & Spencer Girls' Pyjama Sets T86_2561C_N...   \n",
       "2     2765088  PRIKNIK Horn Red Electric Air Horn Compressor ...   \n",
       "3     1594019  ALISHAH Women's Cotton Ankle Length Leggings C...   \n",
       "4      283658  The United Empire Loyalists: A Chronicle of th...   \n",
       "\n",
       "                                       BULLET_POINTS   \n",
       "0  [LUXURIOUS & APPEALING: Beautiful custom-made ...  \\\n",
       "1  [Harry Potter Hedwig Pyjamas (6-16 Yrs),100% c...   \n",
       "2  [Loud Dual Tone Trumpet Horn, Compatible With ...   \n",
       "3  [Made By 95%cotton and 5% Lycra which gives yo...   \n",
       "4                                                NaN   \n",
       "\n",
       "                                         DESCRIPTION  PRODUCT_TYPE_ID   \n",
       "0                                                NaN             1650  \\\n",
       "1                                                NaN             2755   \n",
       "2  Specifications: Color: Red, Material: Aluminiu...             7537   \n",
       "3  AISHAH Women's Lycra Cotton Ankel Leggings. Br...             2996   \n",
       "4                                                NaN             6112   \n",
       "\n",
       "   PRODUCT_LENGTH  \n",
       "0     2125.980000  \n",
       "1      393.700000  \n",
       "2      748.031495  \n",
       "3      787.401574  \n",
       "4      598.424000  "
      ]
     },
     "execution_count": 28,
     "metadata": {},
     "output_type": "execute_result"
    }
   ],
   "source": [
    "data_frame.head()"
   ]
  },
  {
   "cell_type": "code",
   "execution_count": 5,
   "id": "16dfc3bd",
   "metadata": {},
   "outputs": [
    {
     "name": "stdout",
     "output_type": "stream",
     "text": [
      "2249698\n"
     ]
    }
   ],
   "source": [
    "print(len(data_frame))"
   ]
  },
  {
   "cell_type": "code",
   "execution_count": 29,
   "id": "08de91ec",
   "metadata": {},
   "outputs": [
    {
     "name": "stdout",
     "output_type": "stream",
     "text": [
      "2249698\n",
      "1038458\n"
     ]
    },
    {
     "data": {
      "text/html": [
       "<div>\n",
       "<style scoped>\n",
       "    .dataframe tbody tr th:only-of-type {\n",
       "        vertical-align: middle;\n",
       "    }\n",
       "\n",
       "    .dataframe tbody tr th {\n",
       "        vertical-align: top;\n",
       "    }\n",
       "\n",
       "    .dataframe thead th {\n",
       "        text-align: right;\n",
       "    }\n",
       "</style>\n",
       "<table border=\"1\" class=\"dataframe\">\n",
       "  <thead>\n",
       "    <tr style=\"text-align: right;\">\n",
       "      <th></th>\n",
       "      <th>PRODUCT_ID</th>\n",
       "      <th>TITLE</th>\n",
       "      <th>BULLET_POINTS</th>\n",
       "      <th>DESCRIPTION</th>\n",
       "      <th>PRODUCT_TYPE_ID</th>\n",
       "      <th>PRODUCT_LENGTH</th>\n",
       "    </tr>\n",
       "  </thead>\n",
       "  <tbody>\n",
       "    <tr>\n",
       "      <th>2</th>\n",
       "      <td>2765088</td>\n",
       "      <td>PRIKNIK Horn Red Electric Air Horn Compressor ...</td>\n",
       "      <td>[Loud Dual Tone Trumpet Horn, Compatible With ...</td>\n",
       "      <td>Specifications: Color: Red, Material: Aluminiu...</td>\n",
       "      <td>7537</td>\n",
       "      <td>748.031495</td>\n",
       "    </tr>\n",
       "    <tr>\n",
       "      <th>3</th>\n",
       "      <td>1594019</td>\n",
       "      <td>ALISHAH Women's Cotton Ankle Length Leggings C...</td>\n",
       "      <td>[Made By 95%cotton and 5% Lycra which gives yo...</td>\n",
       "      <td>AISHAH Women's Lycra Cotton Ankel Leggings. Br...</td>\n",
       "      <td>2996</td>\n",
       "      <td>787.401574</td>\n",
       "    </tr>\n",
       "    <tr>\n",
       "      <th>5</th>\n",
       "      <td>2152929</td>\n",
       "      <td>HINS Metal Bucket Shape Plant Pot for Indoor &amp;...</td>\n",
       "      <td>[Simple and elegant, great for displaying indo...</td>\n",
       "      <td>HINS Brings you the most Elegant Looking Pot w...</td>\n",
       "      <td>5725</td>\n",
       "      <td>950.000000</td>\n",
       "    </tr>\n",
       "    <tr>\n",
       "      <th>7</th>\n",
       "      <td>2026580</td>\n",
       "      <td>Delavala Self Adhesive Kitchen Backsplash Wall...</td>\n",
       "      <td>[HIGH QUALITY PVC MATERIAL: The kitchen alumin...</td>\n",
       "      <td>&lt;p&gt;&lt;strong&gt;Aluminum Foil Stickers-good kitchen...</td>\n",
       "      <td>6030</td>\n",
       "      <td>984.251967</td>\n",
       "    </tr>\n",
       "    <tr>\n",
       "      <th>9</th>\n",
       "      <td>2998633</td>\n",
       "      <td>Hexwell Essential oil for Home Fragrance Oil A...</td>\n",
       "      <td>[100% Pure And Natural Essential Oil Or Fragra...</td>\n",
       "      <td>Transform your home, workplace or hotel room i...</td>\n",
       "      <td>8201</td>\n",
       "      <td>393.700787</td>\n",
       "    </tr>\n",
       "  </tbody>\n",
       "</table>\n",
       "</div>"
      ],
      "text/plain": [
       "   PRODUCT_ID                                              TITLE   \n",
       "2     2765088  PRIKNIK Horn Red Electric Air Horn Compressor ...  \\\n",
       "3     1594019  ALISHAH Women's Cotton Ankle Length Leggings C...   \n",
       "5     2152929  HINS Metal Bucket Shape Plant Pot for Indoor &...   \n",
       "7     2026580  Delavala Self Adhesive Kitchen Backsplash Wall...   \n",
       "9     2998633  Hexwell Essential oil for Home Fragrance Oil A...   \n",
       "\n",
       "                                       BULLET_POINTS   \n",
       "2  [Loud Dual Tone Trumpet Horn, Compatible With ...  \\\n",
       "3  [Made By 95%cotton and 5% Lycra which gives yo...   \n",
       "5  [Simple and elegant, great for displaying indo...   \n",
       "7  [HIGH QUALITY PVC MATERIAL: The kitchen alumin...   \n",
       "9  [100% Pure And Natural Essential Oil Or Fragra...   \n",
       "\n",
       "                                         DESCRIPTION  PRODUCT_TYPE_ID   \n",
       "2  Specifications: Color: Red, Material: Aluminiu...             7537  \\\n",
       "3  AISHAH Women's Lycra Cotton Ankel Leggings. Br...             2996   \n",
       "5  HINS Brings you the most Elegant Looking Pot w...             5725   \n",
       "7  <p><strong>Aluminum Foil Stickers-good kitchen...             6030   \n",
       "9  Transform your home, workplace or hotel room i...             8201   \n",
       "\n",
       "   PRODUCT_LENGTH  \n",
       "2      748.031495  \n",
       "3      787.401574  \n",
       "5      950.000000  \n",
       "7      984.251967  \n",
       "9      393.700787  "
      ]
     },
     "execution_count": 29,
     "metadata": {},
     "output_type": "execute_result"
    }
   ],
   "source": [
    "data_frame = data_frame.drop_duplicates(subset = ['PRODUCT_ID'])\n",
    "print(len(data_frame))\n",
    "data_frame = data_frame.dropna()\n",
    "print(len(data_frame))\n",
    "data_frame.head()"
   ]
  },
  {
   "cell_type": "code",
   "execution_count": 7,
   "id": "dd8a7b5f",
   "metadata": {},
   "outputs": [
    {
     "name": "stdout",
     "output_type": "stream",
     "text": [
      "<class 'pandas.core.frame.DataFrame'>\n",
      "Index: 1038458 entries, 2 to 2249697\n",
      "Data columns (total 6 columns):\n",
      " #   Column           Non-Null Count    Dtype  \n",
      "---  ------           --------------    -----  \n",
      " 0   PRODUCT_ID       1038458 non-null  int64  \n",
      " 1   TITLE            1038458 non-null  object \n",
      " 2   BULLET_POINTS    1038458 non-null  object \n",
      " 3   DESCRIPTION      1038458 non-null  object \n",
      " 4   PRODUCT_TYPE_ID  1038458 non-null  int64  \n",
      " 5   PRODUCT_LENGTH   1038458 non-null  float64\n",
      "dtypes: float64(1), int64(2), object(3)\n",
      "memory usage: 55.5+ MB\n"
     ]
    }
   ],
   "source": [
    "data_frame.info()"
   ]
  },
  {
   "cell_type": "code",
   "execution_count": 30,
   "id": "f33ae72c",
   "metadata": {},
   "outputs": [
    {
     "name": "stdout",
     "output_type": "stream",
     "text": [
      "1.0 1885801400.0\n"
     ]
    }
   ],
   "source": [
    "prod_len = data_frame['PRODUCT_LENGTH'].values\n",
    "print(min(prod_len), max(prod_len))"
   ]
  },
  {
   "cell_type": "code",
   "execution_count": 31,
   "id": "474c1b5f",
   "metadata": {},
   "outputs": [],
   "source": [
    "# data frame name changed to df\n",
    "\n",
    "for i in range(4):\n",
    "# Calculate Z-score for the feature\n",
    "    z_scores = np.abs((data_frame['PRODUCT_LENGTH'] - data_frame['PRODUCT_LENGTH'].mean()) / data_frame['PRODUCT_LENGTH'].std())\n",
    "\n",
    "    # Set a threshold for Z-score beyond which data points are considered as outliers\n",
    "    threshold = 3\n",
    "\n",
    "    # Remove outliers from the dataframe\n",
    "    data_frame = data_frame[z_scores < threshold]\n"
   ]
  },
  {
   "cell_type": "code",
   "execution_count": 32,
   "id": "a0aec121",
   "metadata": {},
   "outputs": [
    {
     "name": "stdout",
     "output_type": "stream",
     "text": [
      "988781\n",
      "1.0 5402.0\n"
     ]
    }
   ],
   "source": [
    "df = data_frame\n",
    "del data_frame\n",
    "\n",
    "print(len(df))\n",
    "print(min(df['PRODUCT_LENGTH']), max(df['PRODUCT_LENGTH']))"
   ]
  },
  {
   "cell_type": "code",
   "execution_count": 33,
   "id": "cb52dcb1",
   "metadata": {},
   "outputs": [
    {
     "data": {
      "text/plain": [
       "<seaborn.axisgrid.FacetGrid at 0x27a836a0>"
      ]
     },
     "execution_count": 33,
     "metadata": {},
     "output_type": "execute_result"
    },
    {
     "data": {
      "image/png": "[encoded data removed]",
      "text/plain": [
       "<Figure size 750x500 with 1 Axes>"
      ]
     },
     "metadata": {},
     "output_type": "display_data"
    }
   ],
   "source": [
    "sns.set_style('white')\n",
    "sns.set_context(\"paper\", font_scale = 2)\n",
    "sns.displot(data = df, x='PRODUCT_LENGTH',kind=\"hist\", bins = 100, aspect = 1.5)\n"
   ]
  },
  {
   "cell_type": "code",
   "execution_count": 46,
   "id": "198f2e80",
   "metadata": {},
   "outputs": [
    {
     "name": "stdout",
     "output_type": "stream",
     "text": [
      "988781\n",
      "0.0 8.59452453435256\n"
     ]
    },
    {
     "data": {
      "text/plain": [
       "<seaborn.axisgrid.FacetGrid at 0x2ecdac40>"
      ]
     },
     "execution_count": 46,
     "metadata": {},
     "output_type": "execute_result"
    },
    {
     "data": {
      "image/png": "[encoded data removed]",
      "text/plain": [
       "<Figure size 750x500 with 1 Axes>"
      ]
     },
     "metadata": {},
     "output_type": "display_data"
    }
   ],
   "source": [
    "# df\n",
    "\n",
    "df['PRODUCT_LENGTH'] = np.log(df['PRODUCT_LENGTH'])\n",
    "    \n",
    "print(len(df))\n",
    "print(min(df['PRODUCT_LENGTH']), max(df['PRODUCT_LENGTH']))\n",
    "\n",
    "sns.set_style('white')\n",
    "sns.set_context(\"paper\", font_scale = 2)\n",
    "sns.displot(data = df, x = 'PRODUCT_LENGTH', kind=\"hist\", bins = 100, aspect = 1.5)"
   ]
  },
  {
   "cell_type": "code",
   "execution_count": 36,
   "id": "9014a72f",
   "metadata": {},
   "outputs": [],
   "source": [
    "# STOP WORDS OPTIMISED\n",
    "import nltk\n",
    "from nltk.corpus import wordnet\n",
    "from nltk.stem import WordNetLemmatizer\n",
    "from nltk.tokenize import word_tokenize\n",
    "from nltk.corpus import stopwords\n",
    "import string \n",
    "import re\n",
    "\n",
    "def clean_text(text):\n",
    "    # Convert all text to lowercase\n",
    "    text = text.lower()\n",
    "   \n",
    "    # Remove all punctuation\n",
    "    text = text.translate(str.maketrans('', '', string.punctuation))\n",
    "   \n",
    "    # Remove all digits\n",
    "    text = re.sub(r'\\d+', '', text)\n",
    "   \n",
    "    # Remove all extra whitespace\n",
    "    text = re.sub(r'\\s+', ' ', text).strip()\n",
    "   \n",
    "    # Remove all stop words (optional)\n",
    "    stop_words = set(stopwords.words('english'))\n",
    "    text = ' '.join([word for word in text.split() if word not in stop_words])\n",
    "   \n",
    "    return text"
   ]
  },
  {
   "cell_type": "code",
   "execution_count": 39,
   "id": "8b032765",
   "metadata": {},
   "outputs": [],
   "source": [
    "# from 2 -> cols 2,3\n",
    "# df.iloc[0:, 1] = df.iloc[0:, 1].apply(clean_text)\n",
    "df.iloc[0:, 2] = df.iloc[0:, 2].apply(clean_text)\n",
    "df.iloc[0:, 3] = df.iloc[0:, 3].apply(clean_text)"
   ]
  },
  {
   "cell_type": "code",
   "execution_count": 51,
   "id": "0dc9e34a",
   "metadata": {},
   "outputs": [
    {
     "data": {
      "text/plain": [
       "'printbaba hard plastic girls boys printed back cover realme x pro'"
      ]
     },
     "execution_count": 51,
     "metadata": {},
     "output_type": "execute_result"
    }
   ],
   "source": [
    "df.iloc[7777, 1]"
   ]
  },
  {
   "cell_type": "code",
   "execution_count": 18,
   "id": "d02313c7",
   "metadata": {},
   "outputs": [
    {
     "name": "stderr",
     "output_type": "stream",
     "text": [
      "[nltk_data] Downloading package punkt to\n",
      "[nltk_data]     C:\\Users\\Welcome\\AppData\\Roaming\\nltk_data...\n",
      "[nltk_data]   Package punkt is already up-to-date!\n",
      "[nltk_data] Downloading package averaged_perceptron_tagger to\n",
      "[nltk_data]     C:\\Users\\Welcome\\AppData\\Roaming\\nltk_data...\n",
      "[nltk_data]   Unzipping taggers\\averaged_perceptron_tagger.zip.\n",
      "[nltk_data] Downloading package wordnet to\n",
      "[nltk_data]     C:\\Users\\Welcome\\AppData\\Roaming\\nltk_data...\n"
     ]
    },
    {
     "data": {
      "text/plain": [
       "True"
      ]
     },
     "execution_count": 18,
     "metadata": {},
     "output_type": "execute_result"
    }
   ],
   "source": [
    "# download required nltk packages\n",
    "nltk.download('punkt')\n",
    "nltk.download('averaged_perceptron_tagger')\n",
    "nltk.download('wordnet')"
   ]
  },
  {
   "cell_type": "code",
   "execution_count": 3,
   "id": "a4eefb97",
   "metadata": {},
   "outputs": [],
   "source": [
    "import nltk\n",
    "from nltk.corpus import wordnet\n",
    "from nltk.stem import WordNetLemmatizer\n",
    "from nltk.tokenize import word_tokenize\n",
    "\n",
    "# initialize lemmatizer\n",
    "lemmatizer = WordNetLemmatizer()\n",
    "\n",
    "# define function to map POS tag to WordNet POS tag\n",
    "def get_wordnet_pos(word):\n",
    "    \"\"\"Map POS tag to WordNet POS tag\"\"\"\n",
    "    tag = nltk.pos_tag([word])[0][1]\n",
    "    if tag.startswith('J'):\n",
    "        return wordnet.ADJ\n",
    "    elif tag.startswith('V'):\n",
    "        return wordnet.VERB\n",
    "    elif tag.startswith('N'):\n",
    "        return wordnet.NOUN\n",
    "    elif tag.startswith('R'):\n",
    "        return wordnet.ADV\n",
    "    else:\n",
    "        return wordnet.NOUN\n",
    "\n",
    "# define function to perform lemmatization on a sentence\n",
    "def lemmatize_sentence(sentence):\n",
    "    \"\"\"Perform tokenization and lemmatization on a sentence\"\"\"\n",
    "    # tokenize the sentence\n",
    "    tokens = word_tokenize(sentence)\n",
    "   \n",
    "    # lemmatize each token and append to list\n",
    "    lemmatized_tokens = [lemmatizer.lemmatize(token, get_wordnet_pos(token)) for token in tokens]\n",
    "   \n",
    "    # join the tokens to form the sentence\n",
    "#     lemmatized_sentence = ' '.join(lemmatized_tokens)\n",
    "   \n",
    "    return lemmatized_tokens\n",
    "\n",
    "\n",
    "# apply lemmatization on column \"DESCRIPTION\" in dataframe df\n",
    "\n",
    "# df['DESCRIPTION'] = df['DESCRIPTION'].apply(lemmatize_sentence)\n",
    "# df['TITLE'] = df['TITLE'].apply(lemmatize_sentence)\n",
    "# df['BULLET_POINTS'] = df['BULLET_POINTS'].apply(lemmatize_sentence)"
   ]
  },
  {
   "cell_type": "code",
   "execution_count": 44,
   "id": "37a53e6f",
   "metadata": {},
   "outputs": [],
   "source": [
    "# label Encoding\n",
    "from sklearn.preprocessing import LabelEncoder\n",
    "\n",
    "# Initialize LabelEncoder\n",
    "le = LabelEncoder()\n",
    "\n",
    "# Fit and transform PRODUCT_TYPE_ID column\n",
    "df['PRODUCT_TYPE_ID'] = le.fit_transform(df['PRODUCT_TYPE_ID'])"
   ]
  },
  {
   "cell_type": "code",
   "execution_count": 47,
   "id": "896e54ce",
   "metadata": {},
   "outputs": [],
   "source": [
    "# df.to_csv(\"sw_checkp.csv\")"
   ]
  },
  {
   "cell_type": "code",
   "execution_count": 48,
   "id": "867139c8",
   "metadata": {},
   "outputs": [
    {
     "data": {
      "text/html": [
       "<div>\n",
       "<style scoped>\n",
       "    .dataframe tbody tr th:only-of-type {\n",
       "        vertical-align: middle;\n",
       "    }\n",
       "\n",
       "    .dataframe tbody tr th {\n",
       "        vertical-align: top;\n",
       "    }\n",
       "\n",
       "    .dataframe thead th {\n",
       "        text-align: right;\n",
       "    }\n",
       "</style>\n",
       "<table border=\"1\" class=\"dataframe\">\n",
       "  <thead>\n",
       "    <tr style=\"text-align: right;\">\n",
       "      <th></th>\n",
       "      <th>PRODUCT_ID</th>\n",
       "      <th>TITLE</th>\n",
       "      <th>BULLET_POINTS</th>\n",
       "      <th>DESCRIPTION</th>\n",
       "      <th>PRODUCT_TYPE_ID</th>\n",
       "      <th>PRODUCT_LENGTH</th>\n",
       "    </tr>\n",
       "  </thead>\n",
       "  <tbody>\n",
       "    <tr>\n",
       "      <th>2</th>\n",
       "      <td>2765088</td>\n",
       "      <td>priknik horn red electric air horn compressor ...</td>\n",
       "      <td>loud dual tone trumpet horn compatible sxelect...</td>\n",
       "      <td>specifications color red material aluminium vo...</td>\n",
       "      <td>6411</td>\n",
       "      <td>6.617445</td>\n",
       "    </tr>\n",
       "    <tr>\n",
       "      <th>3</th>\n",
       "      <td>1594019</td>\n",
       "      <td>alishah womens cotton ankle length leggings co...</td>\n",
       "      <td>made cotton lycra gives ways stretchable comfo...</td>\n",
       "      <td>aishah womens lycra cotton ankel leggings bran...</td>\n",
       "      <td>2663</td>\n",
       "      <td>6.668738</td>\n",
       "    </tr>\n",
       "    <tr>\n",
       "      <th>5</th>\n",
       "      <td>2152929</td>\n",
       "      <td>hins metal bucket shape plant pot indoor outdo...</td>\n",
       "      <td>simple elegant great displaying indoor plants ...</td>\n",
       "      <td>hins brings elegant looking pot stand durable ...</td>\n",
       "      <td>5027</td>\n",
       "      <td>6.856462</td>\n",
       "    </tr>\n",
       "    <tr>\n",
       "      <th>7</th>\n",
       "      <td>2026580</td>\n",
       "      <td>delavala self adhesive kitchen backsplash wall...</td>\n",
       "      <td>high quality pvc material kitchen aluminum foi...</td>\n",
       "      <td>pstrongaluminum foil stickersgood kitchen help...</td>\n",
       "      <td>5269</td>\n",
       "      <td>6.891882</td>\n",
       "    </tr>\n",
       "    <tr>\n",
       "      <th>9</th>\n",
       "      <td>2998633</td>\n",
       "      <td>hexwell essential oil home fragrance oil aroma...</td>\n",
       "      <td>pure natural essential oil fragrance oil bottl...</td>\n",
       "      <td>transform home workplace hotel room personal a...</td>\n",
       "      <td>6982</td>\n",
       "      <td>5.975591</td>\n",
       "    </tr>\n",
       "  </tbody>\n",
       "</table>\n",
       "</div>"
      ],
      "text/plain": [
       "   PRODUCT_ID                                              TITLE   \n",
       "2     2765088  priknik horn red electric air horn compressor ...  \\\n",
       "3     1594019  alishah womens cotton ankle length leggings co...   \n",
       "5     2152929  hins metal bucket shape plant pot indoor outdo...   \n",
       "7     2026580  delavala self adhesive kitchen backsplash wall...   \n",
       "9     2998633  hexwell essential oil home fragrance oil aroma...   \n",
       "\n",
       "                                       BULLET_POINTS   \n",
       "2  loud dual tone trumpet horn compatible sxelect...  \\\n",
       "3  made cotton lycra gives ways stretchable comfo...   \n",
       "5  simple elegant great displaying indoor plants ...   \n",
       "7  high quality pvc material kitchen aluminum foi...   \n",
       "9  pure natural essential oil fragrance oil bottl...   \n",
       "\n",
       "                                         DESCRIPTION  PRODUCT_TYPE_ID   \n",
       "2  specifications color red material aluminium vo...             6411  \\\n",
       "3  aishah womens lycra cotton ankel leggings bran...             2663   \n",
       "5  hins brings elegant looking pot stand durable ...             5027   \n",
       "7  pstrongaluminum foil stickersgood kitchen help...             5269   \n",
       "9  transform home workplace hotel room personal a...             6982   \n",
       "\n",
       "   PRODUCT_LENGTH  \n",
       "2        6.617445  \n",
       "3        6.668738  \n",
       "5        6.856462  \n",
       "7        6.891882  \n",
       "9        5.975591  "
      ]
     },
     "execution_count": 48,
     "metadata": {},
     "output_type": "execute_result"
    }
   ],
   "source": [
    "df.head()"
   ]
  },
  {
   "cell_type": "code",
   "execution_count": 52,
   "id": "541d1b9a",
   "metadata": {},
   "outputs": [],
   "source": [
    "# initialize Porter stemmer\n",
    "from nltk.stem import PorterStemmer\n",
    "stemmer = PorterStemmer()\n",
    "\n",
    "# define a function to apply stemming to a text\n",
    "def apply_stemming(text):\n",
    "    # tokenize text into words\n",
    "    words = nltk.word_tokenize(text)\n",
    "    # apply stemming to each word\n",
    "    stemmed_words = [stemmer.stem(word) for word in words]\n",
    "    # join stemmed words into a single string\n",
    "    stemmed_text = \" \".join(stemmed_words)\n",
    "    return stemmed_text\n",
    "\n"
   ]
  },
  {
   "cell_type": "code",
   "execution_count": 53,
   "id": "7bda7700",
   "metadata": {},
   "outputs": [],
   "source": [
    "# apply stemming to a column of the dataset\n",
    "df['DESCRIPTION'] = df['DESCRIPTION'].apply(apply_stemming)\n",
    "# df['TITLE'] = df['TITLE'].apply(apply_stemming)\n",
    "# df['BULLET_POINTS'] = df['BULLET_POINTS'].apply(apply_stemming)"
   ]
  },
  {
   "cell_type": "code",
   "execution_count": null,
   "id": "75fd5581",
   "metadata": {},
   "outputs": [],
   "source": []
  }
 ],
 "metadata": {
  "kernelspec": {
   "display_name": "Python 3 (ipykernel)",
   "language": "python",
   "name": "python3"
  },
  "language_info": {
   "codemirror_mode": {
    "name": "ipython",
    "version": 3
   },
   "file_extension": ".py",
   "mimetype": "text/x-python",
   "name": "python",
   "nbconvert_exporter": "python",
   "pygments_lexer": "ipython3",
   "version": "3.8.10"
  }
 },
 "nbformat": 4,
 "nbformat_minor": 5
}
